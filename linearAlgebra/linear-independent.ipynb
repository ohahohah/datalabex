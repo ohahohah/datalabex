{
 "cells": [
  {
   "cell_type": "code",
   "execution_count": 164,
   "metadata": {},
   "outputs": [
    {
     "data": {
      "image/png": "[encoded data removed]",
      "text/plain": [
       "<matplotlib.figure.Figure at 0x11bf272e8>"
      ]
     },
     "metadata": {},
     "output_type": "display_data"
    },
    {
     "data": {
      "image/png": "[encoded data removed]",
      "text/plain": [
       "<matplotlib.figure.Figure at 0x11bf276a0>"
      ]
     },
     "metadata": {},
     "output_type": "display_data"
    }
   ],
   "source": [
    "import numpy as np\n",
    "import matplotlib.pyplot as plt\n",
    "def display_plot(M):\n",
    "    rows,cols = M.T.shape\n",
    "    #Get absolute maxes for axis ranges to center origin\n",
    "    #This is optional\n",
    "    maxes = 1.1*np.amax(abs(M), axis = 0)\n",
    "    for i,l in enumerate(range(0,cols)):\n",
    "        xs = [0,M[i,0]]\n",
    "        ys = [0,M[i,1]]\n",
    "        plt.plot(xs,ys)\n",
    "\n",
    "    plt.plot(0,0,'ok') #<-- plot a black point at the origin\n",
    "    plt.axis('equal')  #<-- set the axes to the same scale\n",
    "    plt.xlim([-4*maxes[0],4*maxes[0]]) #<-- set the x axis limits\n",
    "    plt.ylim([-4*maxes[1],4*maxes[1]]) #<-- set the y axis limits\n",
    "    plt.legend(['V'+str(i+1) for i in range(cols)]) #<-- give a legend\n",
    "    plt.grid(b=True, which='major') #<-- plot grid lines\n",
    "    plt.show()\n",
    "\n",
    "# origin\n",
    "v = np.array([[2,3],[4,6]])\n",
    "display_plot(v)\n",
    "\n",
    "# vector sum\n",
    "y = np.expand_dims(np.sum(v,axis=0,dtype=np.int32), axis=0) #sum\n",
    "sum_v = np.append(v,y,axis=0)\n",
    "display_plot(sum_v)"
   ]
  },
  {
   "cell_type": "code",
   "execution_count": 177,
   "metadata": {},
   "outputs": [
    {
     "ename": "AttributeError",
     "evalue": "'list' object has no attribute 'reshape'",
     "output_type": "error",
     "traceback": [
      "\u001b[0;31m---------------------------------------------------------------------------\u001b[0m",
      "\u001b[0;31mAttributeError\u001b[0m                            Traceback (most recent call last)",
      "\u001b[0;32m<ipython-input-177-35467cd99397>\u001b[0m in \u001b[0;36m<module>\u001b[0;34m()\u001b[0m\n\u001b[1;32m      5\u001b[0m \u001b[0;31m#np.array(np.meshgrid([1, 2, 3], [4, 5], [6, 7])).T.reshape(-1,3)\u001b[0m\u001b[0;34m\u001b[0m\u001b[0;34m\u001b[0m\u001b[0m\n\u001b[1;32m      6\u001b[0m \u001b[0mnp\u001b[0m\u001b[0;34m.\u001b[0m\u001b[0mstack\u001b[0m\u001b[0;34m(\u001b[0m\u001b[0mnp\u001b[0m\u001b[0;34m.\u001b[0m\u001b[0mmeshgrid\u001b[0m\u001b[0;34m(\u001b[0m\u001b[0;34m[\u001b[0m\u001b[0;36m1\u001b[0m\u001b[0;34m,\u001b[0m \u001b[0;36m2\u001b[0m\u001b[0;34m,\u001b[0m \u001b[0;36m3\u001b[0m\u001b[0;34m]\u001b[0m\u001b[0;34m,\u001b[0m \u001b[0;34m[\u001b[0m\u001b[0;36m4\u001b[0m\u001b[0;34m,\u001b[0m \u001b[0;36m5\u001b[0m\u001b[0;34m]\u001b[0m\u001b[0;34m,\u001b[0m \u001b[0;34m[\u001b[0m\u001b[0;36m6\u001b[0m\u001b[0;34m,\u001b[0m \u001b[0;36m7\u001b[0m\u001b[0;34m]\u001b[0m\u001b[0;34m)\u001b[0m\u001b[0;34m,\u001b[0m \u001b[0;34m-\u001b[0m\u001b[0;36m1\u001b[0m\u001b[0;34m)\u001b[0m\u001b[0;34m.\u001b[0m\u001b[0mreshape\u001b[0m\u001b[0;34m(\u001b[0m\u001b[0;34m-\u001b[0m\u001b[0;36m1\u001b[0m\u001b[0;34m,\u001b[0m \u001b[0;36m3\u001b[0m\u001b[0;34m)\u001b[0m\u001b[0;34m\u001b[0m\u001b[0m\n\u001b[0;32m----> 7\u001b[0;31m \u001b[0mnp\u001b[0m\u001b[0;34m.\u001b[0m\u001b[0mstack\u001b[0m\u001b[0;34m(\u001b[0m\u001b[0mnp\u001b[0m\u001b[0;34m.\u001b[0m\u001b[0mmeshgrid\u001b[0m\u001b[0;34m(\u001b[0m\u001b[0mv\u001b[0m\u001b[0;34m,\u001b[0m\u001b[0;34m-\u001b[0m\u001b[0;36m1\u001b[0m\u001b[0;34m)\u001b[0m\u001b[0;34m.\u001b[0m\u001b[0mreshape\u001b[0m\u001b[0;34m(\u001b[0m\u001b[0;34m-\u001b[0m\u001b[0;36m1\u001b[0m\u001b[0;34m,\u001b[0m \u001b[0;36m4\u001b[0m\u001b[0;34m)\u001b[0m\u001b[0;34m)\u001b[0m\u001b[0;34m\u001b[0m\u001b[0m\n\u001b[0m",
      "\u001b[0;31mAttributeError\u001b[0m: 'list' object has no attribute 'reshape'"
     ]
    }
   ],
   "source": [
    "#Linear combination\n",
    "# %timeit np.cartesian(([1, 2, 3], [4, 5], [6, 7]))\n",
    "#https://stackoverflow.com/questions/1208118/using-numpy-to-build-an-array-of-all-combinations-of-two-arrays\n",
    "#%timeit \n",
    "#np.array(np.meshgrid([1, 2, 3], [4, 5], [6, 7])).T.reshape(-1,3)\n",
    "np.stack(np.meshgrid([1, 2, 3], [4, 5], [6, 7]), -1).reshape(-1, 3)"
   ]
  },
  {
   "cell_type": "code",
   "execution_count": 134,
   "metadata": {},
   "outputs": [
    {
     "data": {
      "image/png": "[encoded data removed]",
      "text/plain": [
       "<matplotlib.figure.Figure at 0x11bbdfb38>"
      ]
     },
     "metadata": {},
     "output_type": "display_data"
    },
    {
     "data": {
      "image/png": "[encoded data removed]",
      "text/plain": [
       "<matplotlib.figure.Figure at 0x11c3a8e48>"
      ]
     },
     "metadata": {},
     "output_type": "display_data"
    }
   ],
   "source": [
    "import numpy as np\n",
    "import matplotlib.pyplot as plt\n",
    "\n",
    "#V = np.array([[1,1],[-2,2],[4,-7]])\n",
    "v = np.array([[1,1],[2,4],[0,-7]])\n",
    "\n",
    "def set_basegraph(v):\n",
    "    origin = [0], [0] # origin point\n",
    "    plt.plot(0,0,'ok') #<-- plot a black point at the origin\n",
    "    maxes = 2*np.amax(abs(v), axis = 0)\n",
    "    plt.xlim([-maxes[0],maxes[0]]) #<-- set the x axis limits\n",
    "    plt.ylim([-maxes[1],maxes[1]]) #<-- set the y axis limits  \n",
    "    \n",
    "def show_graph(v):\n",
    "    set_basegraph(v)\n",
    "    M = plt.quiver(*origin, v[:,0], v[:,1], color=['r','b','g'], scale=10)\n",
    "    plt.show()\n",
    "    \n",
    "show_graph(v)\n",
    "\n",
    "plt.quiver(*origin, V[:,0], V[:,0], color=['r','b','g'], scale=10)\n",
    "v12 = V[0] + V[1] # adding up the 1st (red) and 2nd (blue) vectors\n",
    "plt.quiver(*origin, v12[0], v12[1])\n",
    "plt.show()\n",
    "\n"
   ]
  },
  {
   "cell_type": "code",
   "execution_count": null,
   "metadata": {
    "collapsed": true
   },
   "outputs": [],
   "source": []
  }
 ],
 "metadata": {
  "kernelspec": {
   "display_name": "Python 3",
   "language": "python",
   "name": "python3"
  },
  "language_info": {
   "codemirror_mode": {
    "name": "ipython",
    "version": 3
   },
   "file_extension": ".py",
   "mimetype": "text/x-python",
   "name": "python",
   "nbconvert_exporter": "python",
   "pygments_lexer": "ipython3",
   "version": "3.6.2"
  }
 },
 "nbformat": 4,
 "nbformat_minor": 2
}
